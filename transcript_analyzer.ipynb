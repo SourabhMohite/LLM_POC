{
 "cells": [
  {
   "cell_type": "code",
   "execution_count": 1,
   "metadata": {},
   "outputs": [],
   "source": [
    "import instructor\n",
    "from pydantic import BaseModel, Field\n",
    "from openai import AzureOpenAI\n",
    "from enum import Enum\n",
    "from typing import List\n",
    "from dotenv import load_dotenv\n",
    "import os,json\n",
    "import pandas as pd"
   ]
  },
  {
   "cell_type": "code",
   "execution_count": 2,
   "metadata": {},
   "outputs": [],
   "source": [
    "pd.set_option('display.max_colwidth', None)\n",
    "pd.set_option('display.max_rows', None)\n",
    "pd.set_option('display.max_columns', None)"
   ]
  },
  {
   "cell_type": "code",
   "execution_count": 3,
   "metadata": {},
   "outputs": [
    {
     "data": {
      "text/plain": [
       "True"
      ]
     },
     "execution_count": 3,
     "metadata": {},
     "output_type": "execute_result"
    }
   ],
   "source": [
    "load_dotenv(\"C:\\\\Users\\\\sourabh.mohite\\\\LLM_Repo\\\\Advanced-QA-and-RAG-Series\\\\Q&A-and-RAG-with-SQL-and-TabularData\\\\.env\")"
   ]
  },
  {
   "cell_type": "code",
   "execution_count": 4,
   "metadata": {},
   "outputs": [],
   "source": [
    "# --------------------------------------------------------------\n",
    "# Regular Completion using OpenAI (with drawbacks)\n",
    "# --------------------------------------------------------------\n",
    "\n",
    "client = AzureOpenAI(\n",
    "    api_version=os.getenv(\"OPENAI_API_VERSION\"),\n",
    "    azure_endpoint=os.getenv(\"OPENAI_API_BASE\"),\n",
    "    api_key=os.getenv(\"OPENAI_API_KEY\"),\n",
    "    azure_deployment=os.getenv(\"GET_DEPLOYMENT_NAME\")\n",
    ")"
   ]
  },
  {
   "cell_type": "code",
   "execution_count": 5,
   "metadata": {},
   "outputs": [],
   "source": [
    "conversation = \"\"\"{'OP':'Can I know what problem you are facing with your mobile device?', \n",
    "'CU':'My screen got damaged, it has cracks all over it.', \n",
    "'OP':'I’m sorry to hear that. How did the damage occur?', \n",
    "'CU':'I dropped it accidentally while walking.', \n",
    "'OP':'Thank you for the information. Is the device still under warranty?', \n",
    "'CU':'Yes, I purchased it just 6 months ago, so it should be covered.', \n",
    "'OP':'Great! I will guide you through the claim process. You will need to send the device for an inspection. Can I have your contact details to start the process?', \n",
    "'CU':'Sure, my name is John Doe, and my phone number is 123-456-7890.', \n",
    "'OP':'Thank you, John. I’ve noted your details. You’ll receive an email with further instructions on sending the device for inspection. Is there anything else I can assist you with today?', \n",
    "'CU':'No, that will be all for now. Thank you for your help!', \n",
    "'OP':'You’re welcome! We’ll be in touch soon. Have a great day!'}\"\"\""
   ]
  },
  {
   "cell_type": "code",
   "execution_count": 6,
   "metadata": {},
   "outputs": [],
   "source": [
    "# --------------------------------------------------------------\n",
    "# Step 2: Patch your LLM with instructor\n",
    "# --------------------------------------------------------------\n",
    "\n",
    "# Instructor makes it easy to get structured data like JSON from LLMs\n",
    "client = instructor.patch(client)\n",
    "\n",
    "# --------------------------------------------------------------\n",
    "# Step 3: Define Pydantic data models\n",
    "# --------------------------------------------------------------\n",
    "\n",
    "class TicketCategory(str, Enum):\n",
    "    ORDER_ISSUE = \"order_issue\"\n",
    "    ACCOUNT_ACCESS = \"account_access\"\n",
    "    PRODUCT_INQUIRY = \"product_inquiry\"\n",
    "    TECHNICAL_SUPPORT = \"technical_support\"\n",
    "    BILLING = \"billing\"\n",
    "    DEVICEDAMAGE = \"device_damage\"\n",
    "    OTHER = \"other\"\n",
    "    \n",
    "\n",
    "class CustomerSentiment(str, Enum):\n",
    "    ANGRY = \"angry\"\n",
    "    FRUSTRATED = \"frustrated\"\n",
    "    NEUTRAL = \"neutral\"\n",
    "    SATISFIED = \"satisfied\"\n",
    "\n",
    "class AgentBehavior(str, Enum):\n",
    "    HELPFUL = \"helpful\"\n",
    "    PATIENT = \"patient\"\n",
    "    IMPATIENT = \"impatient\"\n",
    "    AGGRESSIVE = \"aggressive\"\n",
    "    NEUTRAL = \"neutral\"\n",
    "    CONFIDENT = \"confident\"\n",
    "    APOLOGETIC = \"apologetic\"\n",
    "    PROFESSIONAL = \"professional\"\n",
    "\n",
    "class TicketUrgency(str, Enum):\n",
    "    LOW = \"low\"\n",
    "    MEDIUM = \"medium\"\n",
    "    HIGH = \"high\"\n",
    "    CRITICAL = \"critical\"\n",
    "\n",
    "class TicketClassification(BaseModel):\n",
    "    category: TicketCategory\n",
    "    urgency: TicketUrgency\n",
    "    customer_sentiment: CustomerSentiment\n",
    "    agent_behavior:AgentBehavior\n",
    "    confidence: float = Field(ge=0, le=1, description=\"Confidence score for the classification\")\n",
    "    key_information: List[str] = Field(description=\"List of key points extracted from the ticket\")\n",
    "    suggested_action: str = Field(description=\"Brief suggestion for handling the ticket\")\n",
    " "
   ]
  },
  {
   "cell_type": "code",
   "execution_count": 7,
   "metadata": {},
   "outputs": [],
   "source": [
    "SYSTEM_PROMPT = \"\"\" You are an AI assistant for a mobile device claim management system at a Insurance company.\n",
    "Your role is to analyze incoming claim calls related to mobile devices and provide structured information to help our team respond quickly and effectively.\n",
    "\n",
    "Business Context:\n",
    "\n",
    "We handle thousands of claims daily, including warranty claims, damage claims, technical issues, and billing disputes.\n",
    "Effective categorization, prioritization, and accurate responses are key to maintaining high customer satisfaction and operational efficiency.\n",
    "Claims are processed based on urgency, warranty status, agent behaviour and customer sentiment.\n",
    "Your Tasks:\n",
    "\n",
    "Categorize the claim into the most appropriate category (e.g., device damage, warranty issue, technical issue, billing dispute).\n",
    "Assess the urgency of the issue (low, medium, high, critical).\n",
    "Determine the customer's sentiment based on the tone of the message (positive, neutral, negative).\n",
    "Determine the agent's behaviour based on the tone (helpful,patient)\n",
    "Extract key information that would be helpful for the claim processing team (e.g., device model, damage description, purchase date, claim reason).\n",
    "Suggest an initial action for processing the claim (e.g., inspect the device, escalate to technician, check warranty status).\n",
    "Provide a confidence score for your classification based on the provided information.\n",
    "Instructions:\n",
    "\n",
    "Be objective and base your analysis solely on the information provided in the claim ticket.\n",
    "If unsure about any aspect, reflect that in your confidence score.\n",
    "For key_information, extract specific details like device model, damage type, purchase date, serial number, or any additional facts.\n",
    "The suggested_action should be clear and actionable to facilitate quick resolution.\n",
    "Remember to consider the customer sentiment and adjust your urgency assessment accordingly.\n",
    "\"\"\""
   ]
  },
  {
   "cell_type": "code",
   "execution_count": 8,
   "metadata": {},
   "outputs": [
    {
     "name": "stdout",
     "output_type": "stream",
     "text": [
      "{\n",
      "  \"category\": \"device_damage\",\n",
      "  \"urgency\": \"medium\",\n",
      "  \"customer_sentiment\": \"neutral\",\n",
      "  \"agent_behavior\": \"helpful\",\n",
      "  \"confidence\": 0.9,\n",
      "  \"key_information\": [\n",
      "    \"Screen damaged with cracks\",\n",
      "    \"Device under warranty\",\n",
      "    \"Purchased 6 months ago\",\n",
      "    \"Contact details: John Doe, 123-456-7890\"\n",
      "  ],\n",
      "  \"suggested_action\": \"Send device for inspection\"\n",
      "}\n"
     ]
    }
   ],
   "source": [
    "def classify_ticket(ticket_text: str) -> TicketClassification:\n",
    "    response = client.chat.completions.create(\n",
    "        model=\"gpt-3.5-turbo\",\n",
    "        response_model=TicketClassification,\n",
    "        temperature=0,\n",
    "        max_retries=3,\n",
    "        messages=[\n",
    "            {\n",
    "                \"role\": \"system\",\n",
    "                \"content\": SYSTEM_PROMPT,\n",
    "            },\n",
    "            {\"role\": \"user\", \"content\": ticket_text}\n",
    "        ]\n",
    "    )\n",
    "    return response\n",
    "\n",
    "result = classify_ticket(conversation)\n",
    "print(result.model_dump_json(indent=2))\n"
   ]
  }
 ],
 "metadata": {
  "kernelspec": {
   "display_name": "Python 3",
   "language": "python",
   "name": "python3"
  },
  "language_info": {
   "codemirror_mode": {
    "name": "ipython",
    "version": 3
   },
   "file_extension": ".py",
   "mimetype": "text/x-python",
   "name": "python",
   "nbconvert_exporter": "python",
   "pygments_lexer": "ipython3",
   "version": "3.10.0rc2"
  }
 },
 "nbformat": 4,
 "nbformat_minor": 2
}
